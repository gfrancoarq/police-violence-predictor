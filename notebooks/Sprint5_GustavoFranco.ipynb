{
  "nbformat": 4,
  "nbformat_minor": 0,
  "metadata": {
    "colab": {
      "provenance": []
    },
    "kernelspec": {
      "name": "python3",
      "display_name": "Python 3"
    },
    "language_info": {
      "name": "python"
    }
  },
  "cells": [
    {
      "cell_type": "markdown",
      "source": [
        "# Sprint 5 - Gustavo Franco"
      ],
      "metadata": {
        "id": "--zufeNz3hAX"
      }
    },
    {
      "cell_type": "markdown",
      "source": [
        "## Módulo: Aprendizaje de Máquina Supervisado"
      ],
      "metadata": {
        "id": "eizMe_uobAy1"
      }
    },
    {
      "cell_type": "markdown",
      "source": [
        "## Proyecto: Predictor de Violencia en Procedimientos Policiales\n",
        "\n",
        "[Repositorio Github](https://github.com/gfrancoarq/police-violence-predictor)"
      ],
      "metadata": {
        "id": "F3v3tPrScdrW"
      }
    },
    {
      "cell_type": "markdown",
      "source": [
        "## Contexto\n",
        "\n",
        "Utilizaremos un set de datos de las policias de New York del año 2009 y 2010 (2009_1perc.csv y 2010_1perc.csv) los cuales nos darán información de los procedimientos realizados. Además se le entregará el diccionario de variables para que pueda consultar qué significa cada categoría dentro de las variables.\n",
        "\n",
        "- La variable respuesta 'arstmade' informa si los procedimientos policiales han terminado en arresto o no, y el objetivo será realizar un modelo de Machine Learning para predecir si un futuro procedimiento terminará en arresto."
      ],
      "metadata": {
        "id": "O5g8WVVD3tek"
      }
    },
    {
      "cell_type": "markdown",
      "source": [
        "## 1. Enliste las librerías que utilizará\n",
        "\n",
        "Nota: Se recomienda actualizar la lista conforme a las necesidades que vaya teniendo durante el desarrollo del ejercicio."
      ],
      "metadata": {
        "id": "2e9tZE-zOMkb"
      }
    },
    {
      "cell_type": "code",
      "execution_count": 72,
      "metadata": {
        "id": "FYy2cwF0GyZ9"
      },
      "outputs": [],
      "source": [
        "import numpy as np\n",
        "import pandas as pd\n",
        "from scipy.stats import randint\n",
        "from matplotlib import pyplot as plt\n",
        "from sklearn.model_selection import train_test_split, RandomizedSearchCV\n",
        "from sklearn import metrics\n",
        "from sklearn.metrics import precision_score, accuracy_score, recall_score, f1_score, roc_auc_score, confusion_matrix\n",
        "from sklearn.ensemble import RandomForestClassifier\n",
        "from sklearn.linear_model import LogisticRegression\n",
        "from sklearn.decomposition import PCA\n",
        "from IPython.display import display\n",
        "import statsmodels.api as sm\n",
        "import seaborn as sns\n",
        "import warnings\n",
        "\n",
        "warnings.filterwarnings('ignore')\n"
      ]
    },
    {
      "cell_type": "markdown",
      "source": [
        "## 2. Importación y revisión de datos\n",
        "\n",
        "Importe ambos sets. Dafo que la fuente de datos proviene de la misma base, tienen las mismas columnas. Consolide ambos sets y reporte una exploración básica de los datos (número de filas/columnas, tipos de datos, estadísticas básicas, casos perdidos)"
      ],
      "metadata": {
        "id": "z5ydN0L6QUIx"
      }
    },
    {
      "cell_type": "code",
      "source": [
        "# Carga de archivos .csv\n",
        "data_2009 = pd.read_csv('2009_1perc.csv')\n",
        "data_2010 = pd.read_csv('2010_1perc.csv')\n",
        "\n",
        "# Importación de bases de entrenamiento y pruebas\n",
        "df_2009 = pd.DataFrame(data_2009)\n",
        "df_2010 = pd.DataFrame(data_2010)\n"
      ],
      "metadata": {
        "id": "vKsLmDLiQzBn"
      },
      "execution_count": 48,
      "outputs": []
    },
    {
      "cell_type": "markdown",
      "source": [
        "## 3. Preprocesamiento de datos\n",
        "\n",
        "Habrá notado que los datos parecen tener ciertas inconsistencias. Siga los siguientes pasos para limpiar este set:"
      ],
      "metadata": {
        "id": "ASfwSDc4SqO5"
      }
    },
    {
      "cell_type": "code",
      "source": [
        "# Obtener filas antes de dropna\n",
        "filas_antes_2009 = df_2009.shape[0]\n",
        "filas_antes_2010 = df_2010.shape[0]\n",
        "\n",
        "# Eliminar filas con valores nulos\n",
        "df_2009.dropna(inplace=True)\n",
        "df_2010.dropna(inplace=True)\n",
        "\n",
        "# Obtener filas después de dropna\n",
        "filas_despues_2009 = df_2009.shape[0]\n",
        "filas_despues_2010 = df_2010.shape[0]\n",
        "\n",
        "# Calcular filas eliminadas\n",
        "filas_eliminadas_2009 = filas_antes_2009 - filas_despues_2009\n",
        "filas_eliminadas_2010 = filas_antes_2010 - filas_despues_2010\n",
        "\n",
        "# Imprimir resultados\n",
        "print(\"Filas eliminadas en df_2009:\", filas_eliminadas_2009)\n",
        "print(\"Filas eliminadas en df_2010:\", filas_eliminadas_2010)"
      ],
      "metadata": {
        "colab": {
          "base_uri": "https://localhost:8080/"
        },
        "id": "rwOOLQ9qS71s",
        "outputId": "364effec-853a-4d9a-a806-de6cac7ce038"
      },
      "execution_count": 49,
      "outputs": [
        {
          "output_type": "stream",
          "name": "stdout",
          "text": [
            "Filas eliminadas en df_2009: 0\n",
            "Filas eliminadas en df_2010: 2\n"
          ]
        }
      ]
    },
    {
      "cell_type": "code",
      "source": [
        "#Ahora verifiquemos si ambos df tienen las mismas columnas, para poderlos consolidar\n",
        "\n",
        "columnas_2009 = df_2009.columns.tolist()\n",
        "columnas_2010 = df_2010.columns.tolist()\n",
        "\n",
        "if columnas_2009 == columnas_2010:\n",
        "    print(\"Los DataFrames tienen las mismas columnas.\")\n",
        "else:\n",
        "    print(\"Los DataFrames tienen diferentes columnas:\")\n",
        "    print(columnas_2009)\n",
        "    print(columnas_2010)"
      ],
      "metadata": {
        "colab": {
          "base_uri": "https://localhost:8080/"
        },
        "id": "q34tahflaAtB",
        "outputId": "078fabc8-0263-46c8-8072-ffd2f2445265"
      },
      "execution_count": 50,
      "outputs": [
        {
          "output_type": "stream",
          "name": "stdout",
          "text": [
            "Los DataFrames tienen las mismas columnas.\n"
          ]
        }
      ]
    },
    {
      "cell_type": "code",
      "source": [
        "# Verificado lo anterior, podemos consolidar\n",
        "df_consolidado = pd.concat([df_2009, df_2010], ignore_index=True)\n",
        "print(\"DataFrames consolidados:\")\n",
        "print(df_consolidado)"
      ],
      "metadata": {
        "colab": {
          "base_uri": "https://localhost:8080/"
        },
        "id": "41UJyNTraeuW",
        "outputId": "705c7ebf-441f-4213-c196-d9359e4393bd"
      },
      "execution_count": 51,
      "outputs": [
        {
          "output_type": "stream",
          "name": "stdout",
          "text": [
            "DataFrames consolidados:\n",
            "       Unnamed: 0  year  pct  ser_num  datestop  timestop recstat inout  \\\n",
            "0          178048  2009   41     1779   4032009       130       A     O   \n",
            "1          498873  2009  108     5805  10292009      1050       A     O   \n",
            "2          463573  2009   43     8340  10062009      1450       1     O   \n",
            "3           43626  2009   77      932   1232009      1843       A     O   \n",
            "4          563921  2009  110    11224  12132009      1655       A     O   \n",
            "...           ...   ...  ...      ...       ...       ...     ...   ...   \n",
            "11818      449178  2010   60     7062   9262010        45       1     O   \n",
            "11819      362162  2010   75    15797   7302010        10       A     O   \n",
            "11820      208893  2010  123      830   4302010      1630       A     O   \n",
            "11821      551820  2010  115    13122  11232010      2100       1     O   \n",
            "11822        6678  2010   14      219   1062010      1406       1     I   \n",
            "\n",
            "      trhsloc  perobs  ... zip  addrpct sector beat post   xcoord   ycoord  \\\n",
            "0           P     1.0  ...           41      G    7       1013067  0238633   \n",
            "1           P     3.0  ...          108      J            1012043  0212157   \n",
            "2           P     1.0  ...           43      E            1017599  0240200   \n",
            "3           P     5.0  ...           77      J    4   35  1002625  0183442   \n",
            "4           P     3.0  ...          110      H            1024535  0209890   \n",
            "...       ...     ...  ...  ..      ...    ...  ...  ...      ...      ...   \n",
            "11818       H     2.0  ...           60      I             989382   155162   \n",
            "11819       P     1.0  ...           75      A            1012757   186018   \n",
            "11820       P     3.0  ...          123      E             933868   138600   \n",
            "11821       P     1.0  ...          115      E            1014722   214388   \n",
            "11822       T     4.0  ...           14      H   11        987078   215157   \n",
            "\n",
            "      dettypcm linecm  detailcm  \n",
            "0           CM      1        20  \n",
            "1           CM      1        14  \n",
            "2           CM      1        20  \n",
            "3           CM      1        24  \n",
            "4           CM      1        20  \n",
            "...        ...    ...       ...  \n",
            "11818       CM      1        20  \n",
            "11819       CM      1        85  \n",
            "11820       CM      1        46  \n",
            "11821       CM      1        85  \n",
            "11822       CM      1        23  \n",
            "\n",
            "[11823 rows x 112 columns]\n"
          ]
        }
      ]
    },
    {
      "cell_type": "markdown",
      "source": [
        "3.1 Obtenga una lista con todas las variables categóricas que tengan entre 2 y 99 categorías (inclusive). (hint: son las variables tipo categóricas)."
      ],
      "metadata": {
        "id": "0YXgUSBocxsC"
      }
    },
    {
      "cell_type": "code",
      "source": [
        "# Identificar variables categóricas\n",
        "columnas_categoricas = df_consolidado.dtypes[df_consolidado.dtypes.astype(str) == 'object'].index.tolist()\n",
        "\n",
        "# Filtrar por número de categorías\n",
        "columnas_filtradas = []\n",
        "for columna in columnas_categoricas:\n",
        "    if 2 <= df_consolidado[columna].nunique() <= 99:\n",
        "        columnas_filtradas.append(columna)\n",
        "\n",
        "# Lista final de variables categóricas\n",
        "print(\"Lista de variables categóricas con 2 a 99 categorías:\")\n",
        "print(columnas_filtradas)\n"
      ],
      "metadata": {
        "colab": {
          "base_uri": "https://localhost:8080/"
        },
        "id": "yt8cOWoidM6A",
        "outputId": "cd8eb738-0a0f-48cc-dc6a-6c1c7b95d23c"
      },
      "execution_count": 52,
      "outputs": [
        {
          "output_type": "stream",
          "name": "stdout",
          "text": [
            "Lista de variables categóricas con 2 a 99 categorías:\n",
            "['recstat', 'inout', 'trhsloc', 'typeofid', 'explnstp', 'othpers', 'arstmade', 'sumissue', 'offunif', 'officrid', 'frisked', 'searched', 'contrabn', 'pistol', 'riflshot', 'asltweap', 'knifcuti', 'othrweap', 'pf_hands', 'pf_wall', 'pf_grnd', 'pf_drwep', 'pf_ptwep', 'pf_baton', 'pf_hcuff', 'pf_pepsp', 'pf_other', 'radio', 'ac_rept', 'ac_inves', 'rf_vcrim', 'rf_othsw', 'ac_proxm', 'rf_attir', 'cs_objcs', 'cs_descr', 'cs_casng', 'cs_lkout', 'rf_vcact', 'cs_cloth', 'cs_drgtr', 'ac_evasv', 'ac_assoc', 'cs_furtv', 'rf_rfcmp', 'ac_cgdir', 'rf_verbl', 'cs_vcrim', 'cs_bulge', 'cs_other', 'ac_incid', 'ac_time', 'rf_knowl', 'ac_stsnd', 'ac_other', 'sb_hdobj', 'sb_outln', 'sb_admis', 'sb_other', 'rf_furt', 'rf_bulg', 'offverb', 'offshld', 'sex', 'race', 'haircolr', 'eyecolor', 'build', 'addrtyp', 'city', 'sector', 'beat', 'dettypcm', 'linecm']\n"
          ]
        }
      ]
    },
    {
      "cell_type": "markdown",
      "source": [
        "● 3.2 Reemplace las siguientes clases faltantes:"
      ],
      "metadata": {
        "id": "g1oajo0TeFjS"
      }
    },
    {
      "cell_type": "markdown",
      "source": [
        "- Si alguna categoría de las columnas officrid, offshld o offverb es igual\n",
        "a \"\" cámbielo a 'N' y en caso contrario déjelo como 'Y'\n",
        "-Si alguna categoría de las columnas sector, trhsloc o beat es igual a \"\"\n",
        "(o NA, dependiendo de cómo haya categorizado la base de datos),\n",
        "cámbielo a 'U' y en caso contrario mantenga su valor"
      ],
      "metadata": {
        "id": "oAz6ARYuizZg"
      }
    },
    {
      "cell_type": "code",
      "source": [
        "# Columnas a reemplazar\n",
        "columnas_a_remplazar = ['officrid', 'offshld', 'offverb', 'sector', 'trhsloc', 'beat']\n",
        "\n",
        "# Reemplazar valores en las columnas especificadas\n",
        "for columna in columnas_a_remplazar:\n",
        "    if columna in ['sector', 'trhsloc', 'beat']:\n",
        "        df_consolidado[columna] = df_consolidado[columna].replace(['', np.NAN], 'U')\n",
        "    else:\n",
        "        df_consolidado[columna] = df_consolidado[columna].replace(['', np.NAN], 'N')\n",
        "\n",
        "# Verificar cambios\n",
        "print(\"Valores reemplazados en las columnas:\")\n",
        "print(df_consolidado[columnas_a_remplazar].head(10))\n"
      ],
      "metadata": {
        "colab": {
          "base_uri": "https://localhost:8080/"
        },
        "id": "tPYtk3s9eJbX",
        "outputId": "179c830a-82e0-4181-b5a1-08407cc5ed5d"
      },
      "execution_count": 53,
      "outputs": [
        {
          "output_type": "stream",
          "name": "stdout",
          "text": [
            "Valores reemplazados en las columnas:\n",
            "  officrid offshld offverb sector trhsloc beat\n",
            "0                               G       P    7\n",
            "1                S       V      J       P     \n",
            "2                S              E       P     \n",
            "3                               J       P    4\n",
            "4                               H       P     \n",
            "5        I       S       V      F       T   16\n",
            "6                               N       P     \n",
            "7                               G       H     \n",
            "8                S              B       P    4\n",
            "9                               N       P     \n"
          ]
        }
      ]
    },
    {
      "cell_type": "markdown",
      "source": [
        "3.3 Transforme las columnas ht_feet junto con ht_inch en una\n",
        "única columna (de la forma \"ht_feet.ht_inch\") llamado 'meters'\n",
        "\n",
        "(hint: transforme con el siguiente cálculo: metros = (pies + pulgadas) * 0.3048 )"
      ],
      "metadata": {
        "id": "RzDTGGS4jh64"
      }
    },
    {
      "cell_type": "code",
      "source": [
        "# Cálculo de la altura en metros\n",
        "df_consolidado['meters'] = (df_consolidado['ht_feet'] + df_consolidado['ht_inch']) * 0.3048\n",
        "\n",
        "# Verificar la nueva columna\n",
        "print(\"Valores en la columna 'meters':\")\n",
        "print(df_consolidado['meters'].head())\n"
      ],
      "metadata": {
        "colab": {
          "base_uri": "https://localhost:8080/"
        },
        "id": "KC0C8LaZkIy4",
        "outputId": "03a385f7-d945-4268-ef12-aab19519e302"
      },
      "execution_count": 54,
      "outputs": [
        {
          "output_type": "stream",
          "name": "stdout",
          "text": [
            "Valores en la columna 'meters':\n",
            "0    4.2672\n",
            "1    3.0480\n",
            "2    2.7432\n",
            "3    3.0480\n",
            "4    3.3528\n",
            "Name: meters, dtype: float64\n"
          ]
        }
      ]
    },
    {
      "cell_type": "markdown",
      "source": [
        "3.4 Note que la fecha viene en un formato MMDDAAAA en la\n",
        "columna datestop. Genere 2 nuevas columnas llamadas month y\n",
        "year que solo tenga el mes y el año respectivamente."
      ],
      "metadata": {
        "id": "rWwRX5o9kYI_"
      }
    },
    {
      "cell_type": "code",
      "source": [
        "# Extraer mes y año\n",
        "df_consolidado['month'] = pd.to_datetime(df_consolidado['datestop'], format='%m%d%Y').dt.month\n",
        "df_consolidado['year'] = pd.to_datetime(df_consolidado['datestop'], format='%m%d%Y').dt.year\n",
        "\n",
        "# Verificar las nuevas columnas\n",
        "print(\"Valores en la columna 'month':\")\n",
        "print(df_consolidado['month'].head())\n",
        "\n",
        "print(\"\\nValores en la columna 'year':\")\n",
        "print(df_consolidado['year'].head())\n"
      ],
      "metadata": {
        "colab": {
          "base_uri": "https://localhost:8080/"
        },
        "id": "vVuEe91ckkiM",
        "outputId": "8b26ade0-0e13-40f9-bd92-c311bf88309e"
      },
      "execution_count": 55,
      "outputs": [
        {
          "output_type": "stream",
          "name": "stdout",
          "text": [
            "Valores en la columna 'month':\n",
            "0     4\n",
            "1    10\n",
            "2    10\n",
            "3    12\n",
            "4    12\n",
            "Name: month, dtype: int32\n",
            "\n",
            "Valores en la columna 'year':\n",
            "0    2009\n",
            "1    2009\n",
            "2    2009\n",
            "3    2009\n",
            "4    2009\n",
            "Name: year, dtype: int32\n"
          ]
        }
      ]
    },
    {
      "cell_type": "markdown",
      "source": [
        "3.5 Filtre su DataFrame y solo deje las columnas seleccionadas en\n",
        "el punto 3.1, el mes, el año, los metros y la edad. Luego solo deje\n",
        "los registros cuyas edades estén entre 18 y 100 años, ambos\n",
        "inclusive."
      ],
      "metadata": {
        "id": "0Zolk19Tkwpf"
      }
    },
    {
      "cell_type": "code",
      "source": [
        "# Seleccionar columnas y filtrar por rango de edad\n",
        "df_filtro = df_consolidado[columnas_filtradas + ['month', 'year', 'meters', 'age']].query('18 <= age <= 100')\n",
        "\n",
        "# Verificar el DataFrame filtrado\n",
        "print(\"Registros filtrados:\")\n",
        "print(df_filtro.head())\n"
      ],
      "metadata": {
        "colab": {
          "base_uri": "https://localhost:8080/"
        },
        "id": "ddFol8Wvk8hc",
        "outputId": "f9766133-f976-42f5-f49b-2ef0ff95a27a"
      },
      "execution_count": 56,
      "outputs": [
        {
          "output_type": "stream",
          "name": "stdout",
          "text": [
            "Registros filtrados:\n",
            "  recstat inout trhsloc typeofid explnstp othpers arstmade sumissue offunif  \\\n",
            "0       A     O       P        P        Y       N        N        N       Y   \n",
            "2       1     O       P        V        Y       N        N        N       N   \n",
            "3       A     O       P        P        Y       N        N        N       Y   \n",
            "4       A     O       P        P        Y       Y        N        N       Y   \n",
            "5       1     I       T        V        Y       N        N        N       N   \n",
            "\n",
            "  officrid  ... addrtyp       city sector beat dettypcm linecm month  year  \\\n",
            "0           ...       L      BRONX      G    7       CM      1     4  2009   \n",
            "2           ...       L      BRONX      E            CM      1    10  2009   \n",
            "3           ...       L   BROOKLYN      J    4       CM      1    12  2009   \n",
            "4           ...       L     QUEENS      H            CM      1    12  2009   \n",
            "5        I  ...       L  MANHATTAN      F   16       CM      1     5  2009   \n",
            "\n",
            "   meters age  \n",
            "0  4.2672  24  \n",
            "2  2.7432  21  \n",
            "3  3.0480  22  \n",
            "4  3.3528  18  \n",
            "5  3.9624  47  \n",
            "\n",
            "[5 rows x 78 columns]\n"
          ]
        }
      ]
    },
    {
      "cell_type": "markdown",
      "source": [
        "## 4.- Análisis exploratorio\n",
        "\n",
        "4.1 Estudie la variable respuesta por si sola (arstmade), puede ayudarse de un gráfico. Comente"
      ],
      "metadata": {
        "id": "IfoNGyFCpFwN"
      }
    },
    {
      "cell_type": "code",
      "source": [
        "# Verificar valores únicos en 'arstmade'\n",
        "valores_unicos = df_consolidado['arstmade'].unique()\n",
        "\n",
        "# Imprimir los valores únicos\n",
        "print(\"Valores únicos en 'arstmade':\")\n",
        "print(valores_unicos)\n",
        "\n",
        "# Contar valores de 'Y' y 'N'\n",
        "cuenta_Y = df_consolidado[df_consolidado['arstmade'] == 'Y'].shape[0]\n",
        "cuenta_N = df_consolidado[df_consolidado['arstmade'] == 'N'].shape[0]\n",
        "\n",
        "# Calcular porcentajes\n",
        "porcentaje_Y = (cuenta_Y / df_consolidado.shape[0]) * 100\n",
        "porcentaje_N = (cuenta_N / df_consolidado.shape[0]) * 100\n",
        "\n",
        "print(\"Porcentaje de respuestas 'Y':\", porcentaje_Y, \"%\")\n",
        "print(\"Porcentaje de respuestas 'N':\", porcentaje_N, \"%\")\n"
      ],
      "metadata": {
        "colab": {
          "base_uri": "https://localhost:8080/"
        },
        "id": "WU4tsI85pMkW",
        "outputId": "d7449363-fd5b-4c1d-8ed6-32451e18db21"
      },
      "execution_count": 57,
      "outputs": [
        {
          "output_type": "stream",
          "name": "stdout",
          "text": [
            "Valores únicos en 'arstmade':\n",
            "['N' 'Y']\n",
            "Porcentaje de respuestas 'Y': 6.326651442104373 %\n",
            "Porcentaje de respuestas 'N': 93.67334855789564 %\n"
          ]
        }
      ]
    },
    {
      "cell_type": "markdown",
      "source": [
        "Entonces, a partir de los datos, podemos ver que:\n",
        "El 6.33% de los procedimientos en el conjunto de datos df_consolidado terminaron en arresto.\n",
        "El 93.67% de los procedimientos en el conjunto de datos df_consolidado no terminaron en arresto.\n",
        "Por tanto, la mayoría de los procedimientos en el conjunto de datos no resultaron en un arresto."
      ],
      "metadata": {
        "id": "_lDa5WXo9mKr"
      }
    },
    {
      "cell_type": "markdown",
      "source": [
        "4.2.- Estudie la relación de la variable respuesta en\n",
        "comportamiento con la raza (race), comente."
      ],
      "metadata": {
        "id": "6QA7670d9xhu"
      }
    },
    {
      "cell_type": "markdown",
      "source": [
        "Procederemos en 2 pasos:\n",
        "- Explorar los valores únicos en la variable 'race': Identificar las diferentes categorías raciales presentes en el conjunto de datos df_consolidado, y el porcentaje de registros en cada categoría.\n",
        "- Analizar la relación entre 'race' y 'arstmade': Evaluar si existe una asociación significativa entre la raza y el resultado de los procedimientos policiales (arresto o no arresto).\n",
        "Recordemos que las categorías raciales son:\n"
      ],
      "metadata": {
        "id": "lzpVCin8-sf9"
      }
    },
    {
      "cell_type": "markdown",
      "source": [
        "\n",
        "![razas.png](data:image/png;base64,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)"
      ],
      "metadata": {
        "id": "xRzoHNJ7_12v"
      }
    },
    {
      "cell_type": "code",
      "source": [
        "# Obtener valores únicos de 'race'\n",
        "valores_unicos_race = df_consolidado['race'].unique()\n",
        "\n",
        "# Contar registros para cada valor único de 'race'\n",
        "cuenta_race = df_consolidado['race'].value_counts().sort_values(ascending=False)\n",
        "\n",
        "# Calcular porcentajes\n",
        "porcentaje_race = (cuenta_race / df_consolidado.shape[0]) * 100\n",
        "\n",
        "# Mostrar resultados\n",
        "print(\"Valores únicos en 'race':\")\n",
        "print(valores_unicos_race)\n",
        "\n",
        "print(\"\\nDistribución de registros por 'race':\")\n",
        "print(cuenta_race)\n",
        "\n",
        "print(\"\\nPorcentaje de registros por 'race':\")\n",
        "print(porcentaje_race.round(2), \"%\")\n",
        "\n",
        "# Visualizar porcentajes en un gráfico de barras\n",
        "porcentaje_race.plot(kind='bar')\n",
        "plt.xlabel('Raza')\n",
        "plt.ylabel('Porcentaje')\n",
        "plt.title('Distribución de la variable \"race\" y porcentajes')\n",
        "plt.show()"
      ],
      "metadata": {
        "colab": {
          "base_uri": "https://localhost:8080/",
          "height": 936
        },
        "id": "4Z_6YhX_93L7",
        "outputId": "bee32971-9372-495f-f74b-304c23cf8e58"
      },
      "execution_count": 58,
      "outputs": [
        {
          "output_type": "stream",
          "name": "stdout",
          "text": [
            "Valores únicos en 'race':\n",
            "['B' 'A' 'Q' 'W' 'Z' 'P' 'U' 'I']\n",
            "\n",
            "Distribución de registros por 'race':\n",
            "race\n",
            "B    6331\n",
            "Q    2921\n",
            "W    1117\n",
            "P     671\n",
            "A     364\n",
            "Z     289\n",
            "U      78\n",
            "I      52\n",
            "Name: count, dtype: int64\n",
            "\n",
            "Porcentaje de registros por 'race':\n",
            "race\n",
            "B    53.55\n",
            "Q    24.71\n",
            "W     9.45\n",
            "P     5.68\n",
            "A     3.08\n",
            "Z     2.44\n",
            "U     0.66\n",
            "I     0.44\n",
            "Name: count, dtype: float64 %\n"
          ]
        },
        {
          "output_type": "display_data",
          "data": {
            "text/plain": [
              "<Figure size 640x480 with 1 Axes>"
            ],
            "image/png": "[encoded data removed]"
          },
          "metadata": {}
        }
      ]
    },
    {
      "cell_type": "markdown",
      "source": [
        "Como es posible observar en los datos obtenidos y en el gráfico:\n",
        "El 53.55% de los registros en el conjunto de datos pertenecen a la categoría B (raza negra).\n",
        "El 24.71% de los registros pertenecen a la categoría Q (raza hispano-blanca).\n",
        "El 9.45% de los registros pertenecen a la categoría W (raza blanca)."
      ],
      "metadata": {
        "id": "SegFVehGCTuU"
      }
    },
    {
      "cell_type": "code",
      "source": [
        "# Tabla de contingencia\n",
        "tabla_contingencia = pd.crosstab(df_consolidado['race'], df_consolidado['arstmade'])\n",
        "\n",
        "# Visualizar tabla de contingencia\n",
        "print(\"Tabla de contingencia:\")\n",
        "print(tabla_contingencia)\n",
        "\n",
        "# Gráfico de barras apiladas\n",
        "df_consolidado.groupby(['race'])['arstmade'].value_counts().unstack().plot(kind='bar', stacked=True)\n",
        "plt.xlabel('Raza')\n",
        "plt.ylabel('Frecuencia')\n",
        "plt.title('Relación entre \"race\" y \"arstmade\"')\n",
        "plt.legend(title='arstmade')\n",
        "plt.show()"
      ],
      "metadata": {
        "colab": {
          "base_uri": "https://localhost:8080/",
          "height": 668
        },
        "id": "z6OkvgVmTJ2U",
        "outputId": "4bb5c33b-4cc0-44f7-c69a-f23e6b97b89d"
      },
      "execution_count": 59,
      "outputs": [
        {
          "output_type": "stream",
          "name": "stdout",
          "text": [
            "Tabla de contingencia:\n",
            "arstmade     N    Y\n",
            "race               \n",
            "A          340   24\n",
            "B         5936  395\n",
            "I           51    1\n",
            "P          629   42\n",
            "Q         2733  188\n",
            "U           75    3\n",
            "W         1039   78\n",
            "Z          272   17\n"
          ]
        },
        {
          "output_type": "display_data",
          "data": {
            "text/plain": [
              "<Figure size 640x480 with 1 Axes>"
            ],
            "image/png": "[encoded data removed]"
          },
          "metadata": {}
        }
      ]
    },
    {
      "cell_type": "code",
      "source": [
        "tabla_contingencia = pd.DataFrame({\n",
        "    'race': ['A', 'B', 'I', 'P', 'Q', 'U', 'W', 'Z'],\n",
        "    'N': [340, 5936, 51, 629, 2733, 75, 1039, 272],\n",
        "    'Y': [24, 395, 1, 42, 188, 3, 78, 17]\n",
        "})\n",
        "\n",
        "# Calcular porcentajes positivos (Y) por categoría\n",
        "porcentajes_y = (tabla_contingencia['Y'] / tabla_contingencia['Y'].sum()) * 100\n",
        "\n",
        "# Calcular promedios de arrestos\n",
        "promedios_arrestos = (tabla_contingencia['Y'] / tabla_contingencia['N']) * 100\n",
        "\n",
        "# Calcular la moda de 'race'\n",
        "moda_race = tabla_contingencia['race'].mode()[0]\n",
        "\n",
        "# Crear gráfico de barras\n",
        "plt.figure(figsize=(5, 3))  # Reducir el tamaño del gráfico a la mitad\n",
        "plt.bar(tabla_contingencia['race'], porcentajes_y, color='skyblue')\n",
        "plt.xlabel('Raza')\n",
        "plt.ylabel('Porcentaje de arrestos')\n",
        "plt.title('Porcentaje de arrestos por categoría')\n",
        "plt.xticks(rotation=45, ha='right')\n",
        "\n",
        "# Mostrar promedios encima de las barras\n",
        "for i, valor in enumerate(promedios_arrestos):\n",
        "    plt.text(i, valor + 1, f\"{valor:.2f}%\", ha='center', va='bottom', fontsize=10)\n",
        "\n",
        "# Ajustar escala del eje Y\n",
        "plt.ylim(0, 10)  # Ajustar el rango del eje Y según sea necesario\n",
        "\n",
        "plt.tight_layout()\n",
        "plt.show()\n"
      ],
      "metadata": {
        "colab": {
          "base_uri": "https://localhost:8080/",
          "height": 307
        },
        "id": "GZ2Mxm7DWtsk",
        "outputId": "b41cecaf-6885-4dd7-bb84-51d1af1e0561"
      },
      "execution_count": 60,
      "outputs": [
        {
          "output_type": "display_data",
          "data": {
            "text/plain": [
              "<Figure size 500x300 with 1 Axes>"
            ],
            "image/png": "[encoded data removed]"
          },
          "metadata": {}
        }
      ]
    },
    {
      "cell_type": "markdown",
      "source": [
        "### Relación entre 'race' y 'arstmade':\n",
        "\n",
        "Indudablemente existe una asociación entre la variable 'race' y la variable 'arstmade'.\n",
        "Las personas de raza B (raza negra) tienen una mayor probabilidad de ser arrestadas que las personas de otras razas, ya que son más personas que participan en procedimientos.\n",
        "Y por esta misma razón, las personas de raza A (raza asiática) tienen la menor probabilidad de ser arrestadas.\n"
      ],
      "metadata": {
        "id": "WgNvO-zUT4xV"
      }
    },
    {
      "cell_type": "markdown",
      "source": [
        "4.3 Estudie la relación de la variable respuesta en\n",
        "comportamiento con la sexo (sex), comente."
      ],
      "metadata": {
        "id": "se0o3gg0axSM"
      }
    },
    {
      "cell_type": "markdown",
      "source": [
        "Al igual que con el análisis de la variable race, procederemos en 2 pasos:\n",
        "- Explorar los valores únicos en la variable 'sex': Identificar las diferentes categorías presentes en el conjunto de datos df_consolidado, y el porcentaje de registros en cada categoría.\n",
        "- Analizar la relación entre 'sex' y 'arstmade': Evaluar si existe una asociación significativa entre el sexo y el resultado de los procedimientos policiales (arresto o no arresto)."
      ],
      "metadata": {
        "id": "lqNQiJMKbVIe"
      }
    },
    {
      "cell_type": "code",
      "source": [
        "# Obtener valores únicos de 'sex'\n",
        "valores_unicos_sex = df_consolidado['sex'].unique()\n",
        "\n",
        "# Contar registros para cada valor único de 'sex'\n",
        "cuenta_sex = df_consolidado['sex'].value_counts().sort_values(ascending=False)\n",
        "\n",
        "# Calcular porcentajes\n",
        "porcentaje_sex = (cuenta_sex / df_consolidado.shape[0]) * 100\n",
        "\n",
        "# Mostrar resultados\n",
        "print(\"Valores únicos en 'sex':\")\n",
        "print(valores_unicos_sex)\n",
        "\n",
        "print(\"\\nDistribución de registros por 'sex':\")\n",
        "print(cuenta_sex)\n",
        "\n",
        "print(\"\\nPorcentaje de registros por 'sex':\")\n",
        "print(porcentaje_sex.round(2), \"%\")\n",
        "\n",
        "# Visualizar porcentajes en un gráfico de barras\n",
        "porcentaje_sex.plot(kind='bar')\n",
        "plt.xlabel('Sexo')\n",
        "plt.ylabel('Porcentaje')\n",
        "plt.title('Distribución de la variable \"sex\" y porcentajes')\n",
        "plt.show()"
      ],
      "metadata": {
        "colab": {
          "base_uri": "https://localhost:8080/",
          "height": 756
        },
        "id": "Xd4t6zHZaXtK",
        "outputId": "e40a70e1-1b92-459c-871c-866ec413ef09"
      },
      "execution_count": 61,
      "outputs": [
        {
          "output_type": "stream",
          "name": "stdout",
          "text": [
            "Valores únicos en 'sex':\n",
            "['M' 'F' 'Z']\n",
            "\n",
            "Distribución de registros por 'sex':\n",
            "sex\n",
            "M    10871\n",
            "F      777\n",
            "Z      175\n",
            "Name: count, dtype: int64\n",
            "\n",
            "Porcentaje de registros por 'sex':\n",
            "sex\n",
            "M    91.95\n",
            "F     6.57\n",
            "Z     1.48\n",
            "Name: count, dtype: float64 %\n"
          ]
        },
        {
          "output_type": "display_data",
          "data": {
            "text/plain": [
              "<Figure size 640x480 with 1 Axes>"
            ],
            "image/png": "[encoded data removed]"
          },
          "metadata": {}
        }
      ]
    },
    {
      "cell_type": "markdown",
      "source": [
        "Como es posible observar en los datos obtenidos y en el gráfico: El 91.95% de los registros en el conjunto de datos pertenecen a la categoría M (Masculino). El 6.57% de los registros pertenecen a la categoría F (Femenino), y el 1.48% de los registros pertenecen a la Z (desconocido)."
      ],
      "metadata": {
        "id": "amQwSBhTbQm3"
      }
    },
    {
      "cell_type": "code",
      "source": [
        "# Tabla de contingencia\n",
        "tabla_contingencia = pd.crosstab(df_consolidado['sex'], df_consolidado['arstmade'])\n",
        "\n",
        "# Visualizar tabla de contingencia\n",
        "print(\"Tabla de contingencia:\")\n",
        "print(tabla_contingencia)\n",
        "\n",
        "# Gráfico de barras apiladas\n",
        "df_consolidado.groupby(['sex'])['arstmade'].value_counts().unstack().plot(kind='bar', stacked=True)\n",
        "plt.xlabel('Sexo')\n",
        "plt.ylabel('Frecuencia')\n",
        "plt.title('Relación entre \"sex\" y \"arstmade\"')\n",
        "plt.legend(title='arstmade')\n",
        "plt.show()"
      ],
      "metadata": {
        "colab": {
          "base_uri": "https://localhost:8080/",
          "height": 577
        },
        "id": "tbd8QsCHc22E",
        "outputId": "1ba96e25-d61e-431b-a571-4bdc9101ed67"
      },
      "execution_count": 62,
      "outputs": [
        {
          "output_type": "stream",
          "name": "stdout",
          "text": [
            "Tabla de contingencia:\n",
            "arstmade      N    Y\n",
            "sex                 \n",
            "F           702   75\n",
            "M         10206  665\n",
            "Z           167    8\n"
          ]
        },
        {
          "output_type": "display_data",
          "data": {
            "text/plain": [
              "<Figure size 640x480 with 1 Axes>"
            ],
            "image/png": "[encoded data removed]"
          },
          "metadata": {}
        }
      ]
    },
    {
      "cell_type": "code",
      "source": [
        "# Calcular el total de 'N' y 'Y'\n",
        "total_n = tabla_contingencia['N'].sum()\n",
        "total_y = tabla_contingencia['Y'].sum()\n",
        "\n",
        "# Agregar columna 'Porcentaje de arresto'\n",
        "tabla_contingencia['Porcentaje de arresto'] = (tabla_contingencia['Y'] / total_y) * 100\n",
        "\n",
        "# Visualizar tabla de contingencia\n",
        "print(\"Tabla de contingencia:\")\n",
        "print(tabla_contingencia)"
      ],
      "metadata": {
        "colab": {
          "base_uri": "https://localhost:8080/"
        },
        "id": "Q8bl48_OfSwm",
        "outputId": "927a73c7-3f2b-4c74-f131-7972cd299484"
      },
      "execution_count": 63,
      "outputs": [
        {
          "output_type": "stream",
          "name": "stdout",
          "text": [
            "Tabla de contingencia:\n",
            "arstmade      N    Y  Porcentaje de arresto\n",
            "sex                                        \n",
            "F           702   75              10.026738\n",
            "M         10206  665              88.903743\n",
            "Z           167    8               1.069519\n"
          ]
        }
      ]
    },
    {
      "cell_type": "markdown",
      "source": [
        "A partir de la tabla de contingencia y los porcentajes de arresto, se pueden realizar las siguientes conclusiones:\n",
        "\n",
        "- Desigualdad en las tasas de arresto por género:\n",
        "\n",
        "Se observa una desigualdad significativa en las tasas de arresto por género.\n",
        "El género \"M\" presenta un porcentaje de arresto mucho mayor (88.90%) que los géneros \"F\" (10.03%) y \"Z\" (1.07%).\n",
        "Esta diferencia en las tasas de arresto podría indicar posibles sesgos o discriminación en el sistema de justicia penal en lo que respecta a los géneros.\n",
        "- Género \"M\" con mayor riesgo de arresto:\n",
        "\n",
        "Los individuos del género \"M\" tienen un riesgo significativamente mayor de ser arrestados en comparación con los géneros \"F\" y \"Z\".\n",
        "Esta información podría ser útil para comprender las experiencias y los desafíos que enfrentan los individuos de diferentes géneros en el contexto del sistema de justicia penal.\n",
        "- Necesidad de análisis más profundo:\n",
        "\n",
        "Es importante destacar que estas conclusiones se basan en una descripción simple de los datos y no se pueden realizar inferencias estadísticas sin un análisis más profundo.\n",
        "Se recomienda realizar pruebas estadísticas como la prueba chi-cuadrado para confirmar la significancia estadística de las diferencias en las tasas de arresto entre géneros.\n",
        "También es importante considerar el contexto social, cultural y legal en el que se recopilaron los datos para comprender mejor las posibles causas de las desigualdades observadas."
      ],
      "metadata": {
        "id": "Iu7bxDdhkVFO"
      }
    },
    {
      "cell_type": "markdown",
      "source": [
        "4.3-b  Estudie la relación de la variable respuesta en\n",
        "comportamiento con la sexo y la edad en su conjunto, comente."
      ],
      "metadata": {
        "id": "G4g_cml6kfA8"
      }
    },
    {
      "cell_type": "markdown",
      "source": [
        "Paso 1: Detección y eliminación de outliers (valores atípicos)"
      ],
      "metadata": {
        "id": "L-Q3zDaItKLw"
      }
    },
    {
      "cell_type": "code",
      "source": [
        "df = df_consolidado\n",
        "\n",
        "print(df['age'].describe())\n",
        "df_clean = df[(df['age'] >= 1) & (df['age'] <= 100) | (df['age'] == 'U')]\n",
        "print(df_clean['age'].describe())\n"
      ],
      "metadata": {
        "colab": {
          "base_uri": "https://localhost:8080/"
        },
        "id": "eA7imOg7pG6O",
        "outputId": "65e15f61-0d81-4850-a323-aa4454324191"
      },
      "execution_count": 64,
      "outputs": [
        {
          "output_type": "stream",
          "name": "stdout",
          "text": [
            "count    11823.000000\n",
            "mean        28.968113\n",
            "std         29.207277\n",
            "min          1.000000\n",
            "25%         19.000000\n",
            "50%         25.000000\n",
            "75%         34.000000\n",
            "max        999.000000\n",
            "Name: age, dtype: float64\n",
            "count    11797.000000\n",
            "mean        28.005679\n",
            "std         11.671243\n",
            "min          1.000000\n",
            "25%         19.000000\n",
            "50%         24.000000\n",
            "75%         34.000000\n",
            "max        100.000000\n",
            "Name: age, dtype: float64\n"
          ]
        }
      ]
    },
    {
      "cell_type": "markdown",
      "source": [
        "Paso 2: Análisis descriptivo de la distribución de 'age'\n",
        "\n",
        "- Gráfico de distribución de frecuencias:"
      ],
      "metadata": {
        "id": "mCe39MSzlbAM"
      }
    },
    {
      "cell_type": "code",
      "source": [
        "# Crear histograma de 'age'\n",
        "plt.figure(figsize=(10, 6))\n",
        "plt.hist(df_clean['age'], bins=20, edgecolor='black')\n",
        "plt.xlabel('Edad')\n",
        "plt.ylabel('Frecuencia')\n",
        "plt.title('Distribución de frecuencias de la variable \"age\"')\n",
        "plt.grid(True)\n",
        "plt.show()\n"
      ],
      "metadata": {
        "colab": {
          "base_uri": "https://localhost:8080/",
          "height": 565
        },
        "id": "bSJQtVLIt5dT",
        "outputId": "bd983acd-eec2-44f3-9969-1bec2c35ee83"
      },
      "execution_count": 65,
      "outputs": [
        {
          "output_type": "display_data",
          "data": {
            "text/plain": [
              "<Figure size 1000x600 with 1 Axes>"
            ],
            "image/png": "[encoded data removed]"
          },
          "metadata": {}
        }
      ]
    },
    {
      "cell_type": "markdown",
      "source": [
        "- Conclusiones sobre la distribución de 'age':\n",
        "\n",
        "A partir del histograma proporcionado, podemos realizar las siguientes conclusiones estadísticas sobre la distribución de la variable 'age':\n",
        "\n",
        "La distribución de 'age' no es simétrica. Se observa una curtosis positiva, lo que indica que la distribución tiene una cola derecha más larga que la izquierda.\n",
        "La moda de la distribución se encuentra en el rango de 18 a 20 años, lo que significa que este es el grupo de edad con mayor frecuencia en el conjunto de datos.\n",
        "La distribución decrece gradualmente a medida que aumenta la edad, lo que sugiere que hay menos individuos en los grupos de edad más altos."
      ],
      "metadata": {
        "id": "6_dljQRwuJGG"
      }
    },
    {
      "cell_type": "markdown",
      "source": [
        "- Relación entre 'age', 'sex' y 'arstmade'\n",
        "\n",
        "Ahora revisemos la distribución de 'arstmade' en función de 'age' y 'sex', mediante un gráfico."
      ],
      "metadata": {
        "id": "jIs1LfiewHzN"
      }
    },
    {
      "cell_type": "code",
      "source": [
        "df_arrestos = df_clean[df_clean['arstmade'] == 'Y']  # Filtrar solo casos de arrestos\n",
        "\n",
        "tabla_contingencia = pd.crosstab(df_arrestos['age'], [df_arrestos['sex']])\n",
        "tabla_contingencia.plot(kind='bar', stacked=True, color=['skyblue', 'lightgreen', 'yellow'], figsize=(10, 6))\n",
        "plt.xlabel('Edad')\n",
        "plt.ylabel('Número de arrestos')\n",
        "plt.title('Distribución de arrestos por edad y sexo')\n",
        "plt.xticks(rotation=0)  # Rotar etiquetas de eje X para mejor visibilidad\n",
        "plt.legend(title='Sexo', labels=['F', 'M', 'Z'])\n",
        "plt.tight_layout()\n",
        "plt.show()\n"
      ],
      "metadata": {
        "colab": {
          "base_uri": "https://localhost:8080/",
          "height": 607
        },
        "id": "9-sPUA3Z1Re3",
        "outputId": "2e1b0843-5c94-409e-d95e-2cc92ef44dfd"
      },
      "execution_count": 66,
      "outputs": [
        {
          "output_type": "display_data",
          "data": {
            "text/plain": [
              "<Figure size 1000x600 with 1 Axes>"
            ],
            "image/png": "[encoded data removed]"
          },
          "metadata": {}
        }
      ]
    },
    {
      "cell_type": "markdown",
      "source": [
        "Conclusiones de la distribución de arrestos por edad y sexo:\n",
        "- En el gráfico, se observa que la frecuencia de arrestos es siempre mayor en el sexo masculino (M) en todos los grupos de edad.\n",
        "- La diferencia en la frecuencia de arrestos entre 'F' y 'M' es relativamente proporcional, donde por ejemplo en los grupos de edad más jóvenes, la cantidad de arrestos de mujeres también aumenta.\n",
        "- Se observa un pico en la frecuencia de arrestos para el sexo masculino en el grupo de edad de 18 a 20 años, por cuanto el pico de arrestos de mujeres está en los 20 años."
      ],
      "metadata": {
        "id": "J7-kMVvkw_VJ"
      }
    },
    {
      "cell_type": "markdown",
      "source": [
        "4.4 Recodifique la variable respuesta a 1 y 0. Donde 0 es N y 1 es Y."
      ],
      "metadata": {
        "id": "99Z8CRXC3FwJ"
      }
    },
    {
      "cell_type": "code",
      "source": [
        "df_clean['arstmade'] = df_clean['arstmade'].map({'Y': 1, 'N': 0})\n",
        "#Luego de realizado el cambio, verificamos las categorías de arstmade\n",
        "df_clean['arstmade'].dtype\n",
        "df_clean['arstmade'].head()\n"
      ],
      "metadata": {
        "colab": {
          "base_uri": "https://localhost:8080/"
        },
        "id": "zg9b-DiM3Nzy",
        "outputId": "54523e2f-3059-4cbb-ca29-c69e2a9080ff"
      },
      "execution_count": 67,
      "outputs": [
        {
          "output_type": "execute_result",
          "data": {
            "text/plain": [
              "0    0\n",
              "1    0\n",
              "2    0\n",
              "3    0\n",
              "4    0\n",
              "Name: arstmade, dtype: int64"
            ]
          },
          "metadata": {},
          "execution_count": 67
        }
      ]
    },
    {
      "cell_type": "markdown",
      "source": [
        "4.5 Muestre en un gráfico la probabilidad que un individuo sea arrestado, condicional al género y a la raza. ¿qué implicancias éticas tienen algunas conclusiones de lo que observa?."
      ],
      "metadata": {
        "id": "709TavKUYyVk"
      }
    },
    {
      "cell_type": "code",
      "source": [
        "\n",
        "# Calcula el número total de arrestos por género y raza\n",
        "arrestos_por_genero_y_raza = df_clean.groupby(['sex', 'race']).size().unstack()\n",
        "\n",
        "# Calcula el número de arrestos por género\n",
        "arrestos_por_genero = df_clean.groupby('sex').size()\n",
        "\n",
        "# Calcula la probabilidad condicional de ser arrestado dado el género y la raza\n",
        "prob_arresto_condicional = arrestos_por_genero_y_raza.div(arrestos_por_genero, axis=0)\n",
        "\n",
        "# Grafica la probabilidad condicional de ser arrestado\n",
        "prob_arresto_condicional.plot(kind='bar', stacked=True)\n",
        "plt.title('Probabilidad de ser arrestado por género y raza')\n",
        "plt.xlabel('Género')\n",
        "plt.ylabel('Probabilidad de arresto')\n",
        "plt.legend(title='Raza')\n",
        "plt.xticks(rotation=0)\n",
        "plt.tight_layout()\n",
        "plt.show()\n"
      ],
      "metadata": {
        "colab": {
          "base_uri": "https://localhost:8080/",
          "height": 487
        },
        "id": "1h2vWuRkZExj",
        "outputId": "a5c0ab5a-0b8d-4afd-8ff7-552c8e72e083"
      },
      "execution_count": 68,
      "outputs": [
        {
          "output_type": "display_data",
          "data": {
            "text/plain": [
              "<Figure size 640x480 with 1 Axes>"
            ],
            "image/png": "[encoded data removed]"
          },
          "metadata": {}
        }
      ]
    },
    {
      "cell_type": "markdown",
      "source": [
        "### Conclusión ética\n",
        "\n",
        "\n",
        "\n",
        "El análisis muestra las probabilidades de ser arrestado según el género y la raza.\n",
        "Como es posible apreciar, destaca la disparidad en las probabilidades de arresto entre diferentes grupos, y especificamente los sujetos que tienen mucha más probabilidad de terminar en arresto, son las personas de raza negra en primer lugar, y de raza blanca-hispanica (es decir latinos) en segundo lugar.\n",
        "Por otro lado, el género no marca una diferencia tan significativa como la raza, donde es posible apreciar que los hombres solo tienen un pequeño porcentaje superior de probabilidades de arresto por sobre las mujeres.\n",
        "Lamentablemente, y como conclusión ética, estas disparidades podrían indicar posibles sesgos o derechamente discriminación racial en el sistema policial."
      ],
      "metadata": {
        "id": "r8aY8rFueoVp"
      }
    },
    {
      "cell_type": "markdown",
      "source": [
        "### 5.- Determinar si el procedimiento policial concluirá en alguna acción violenta.\n",
        "\n",
        "Los atributos que tienen el prefijo pf (['pf_hands'],['pf_wall'], ['pf_grnd'],\n",
        "['pf_drwep'], ['pf_ptwep'],['pf_baton'],['pf_hcuff'], ['pf_pepsp'] y\n",
        "['pf_other']) indican si hubo fuerza fisica utilizada por el oficial al\n",
        "momento del procedimiento, con la marca 'Y'.\n",
        "Genere una nueva variable llamada 'violencia' la cual sea 1 si en\n",
        "cualquiera de las 9 variables pf hubo alguna 'Y', y 0 en otro caso. Luego\n",
        "indique el porcentaje de casos que terminaron con violencia."
      ],
      "metadata": {
        "id": "FDWJbxQp3eBX"
      }
    },
    {
      "cell_type": "code",
      "source": [
        "# Crear la nueva variable 'violencia'\n",
        "df_clean['violencia'] = (df_clean[['pf_hands', 'pf_wall', 'pf_grnd', 'pf_drwep', 'pf_ptwep', 'pf_baton', 'pf_hcuff', 'pf_pepsp', 'pf_other']] == 'Y').any(axis=1).astype(int)\n",
        "\n",
        "# Calcular el porcentaje de casos que terminaron con violencia\n",
        "porcentaje_violencia = (df_clean['violencia'].sum() / len(df_clean)) * 100\n",
        "\n",
        "print(f\"El {porcentaje_violencia:.2f}% de los casos terminaron con violencia.\")\n"
      ],
      "metadata": {
        "colab": {
          "base_uri": "https://localhost:8080/"
        },
        "id": "xo8Bu852bXEV",
        "outputId": "07957b97-bdad-49aa-9d45-07e8d0a8dd80"
      },
      "execution_count": 69,
      "outputs": [
        {
          "output_type": "stream",
          "name": "stdout",
          "text": [
            "El 24.58% de los casos terminaron con violencia.\n"
          ]
        }
      ]
    },
    {
      "cell_type": "markdown",
      "source": [
        "### 6.- Modelación\n",
        "\n",
        "6.1 Genere las variables dummies correspondientes (Tenga\n",
        "cuidado de no utilizar variables que expliquen lo mismo,\n",
        "¡recuerde que acaba de crear una variable a partir de otras!, además recuerde que creó una variable numérica que es una categoría :) ). Luego genere los sets de train-test utilizando el año 2009 para entrenar, y el año 2010 para testear."
      ],
      "metadata": {
        "id": "iFHG67dy4J83"
      }
    },
    {
      "cell_type": "code",
      "source": [
        "# Crear variables dummies\n",
        "df_dummies = pd.get_dummies(df_clean.drop(columns=['violencia', 'year']), drop_first=True)\n",
        "\n",
        "# Concatenar las variables dummies con el DataFrame original\n",
        "df_final = pd.concat([df_clean[['violencia', 'year']], df_dummies], axis=1)\n",
        "\n",
        "# Dividir el conjunto de datos en sets de train-test\n",
        "df_train = df_final[df_final['year'] == 2009].drop(columns=['year'])\n",
        "df_test = df_final[df_final['year'] == 2010].drop(columns=['year'])\n",
        "\n",
        "# Separar las características (X) y la variable objetivo (y)\n",
        "X_train = df_train.drop(columns=['violencia'])\n",
        "y_train = df_train['violencia']\n",
        "X_test = df_test.drop(columns=['violencia'])\n",
        "y_test = df_test['violencia']\n"
      ],
      "metadata": {
        "id": "fS0WsmzBP3cJ"
      },
      "execution_count": 70,
      "outputs": []
    },
    {
      "cell_type": "markdown",
      "source": [
        "6.2 Entrene 4 modelos de clásificación y reporte el mejor modelo bajo algún criterio.\n",
        "\n",
        "Utilice validación cruzada de al menos 2 folds\n",
        "para probar distintos hiperparámetros para cada modelo (puede probar cualquier hiperparámetro, pero debe ser al menos uno)."
      ],
      "metadata": {
        "id": "pOuaXLPNP6qc"
      }
    },
    {
      "cell_type": "code",
      "source": [
        "from sklearn.model_selection import cross_val_score\n",
        "from sklearn.linear_model import LogisticRegression\n",
        "from sklearn.tree import DecisionTreeClassifier\n",
        "from sklearn.ensemble import RandomForestClassifier\n",
        "from sklearn.svm import SVC\n",
        "\n",
        "# Definir los modelos\n",
        "models = {\n",
        "    'Logistic Regression': LogisticRegression(),\n",
        "    'Decision Tree': DecisionTreeClassifier(),\n",
        "    'Random Forest': RandomForestClassifier(),\n",
        "    'Support Vector Machine': SVC()\n",
        "}\n",
        "\n",
        "# Realizar validación cruzada para cada modelo y seleccionar el mejor\n",
        "best_model = None\n",
        "best_score = 0\n",
        "\n",
        "for name, model in models.items():\n",
        "    scores = cross_val_score(model, X_train, y_train, cv=2)\n",
        "    mean_score = scores.mean()\n",
        "    print(f\"{name}: Mean Accuracy = {mean_score}\")\n",
        "\n",
        "    if mean_score > best_score:\n",
        "        best_model = model\n",
        "        best_score = mean_score\n",
        "\n",
        "print(f\"\\nMejor modelo: {best_model}\")\n",
        "print(f\"Puntaje del mejor modelo: {best_score}\")\n"
      ],
      "metadata": {
        "colab": {
          "base_uri": "https://localhost:8080/"
        },
        "id": "rrhG2DyrV1nn",
        "outputId": "abeedbcc-e312-40fd-a8f5-c0086925d64a"
      },
      "execution_count": 75,
      "outputs": [
        {
          "output_type": "stream",
          "name": "stdout",
          "text": [
            "Logistic Regression: Mean Accuracy = 0.7500861771802827\n",
            "Decision Tree: Mean Accuracy = 0.9981041020337815\n",
            "Random Forest: Mean Accuracy = 0.869010685970355\n",
            "Support Vector Machine: Mean Accuracy = 0.7500861771802827\n",
            "\n",
            "Mejor modelo: DecisionTreeClassifier()\n",
            "Puntaje del mejor modelo: 0.9981041020337815\n"
          ]
        }
      ]
    },
    {
      "cell_type": "markdown",
      "source": [
        "Basado en los resultados de la validación cruzada con 2 folds para los cuatro modelos de clasificación probados, la precisión media más alta se obtuvo con el modelo de Árbol de Decisión, con un puntaje de precisión promedio de aproximadamente 0.998. Esto significa que, en promedio, el modelo de Árbol de Decisión logró clasificar correctamente alrededor del 99.8% de las muestras en el conjunto de datos de entrenamiento.\n",
        "\n",
        "La Regresión Logística y la Máquina de Vectores de Soporte (SVM) obtuvieron la misma precisión media de alrededor del 75%, mientras que el modelo de Bosques Aleatorios logró una precisión media de alrededor del 87%.\n",
        "\n",
        "Por lo tanto, bajo el criterio de precisión media, el modelo de Árbol de Decisión fue identificado como el mejor modelo para este problema de clasificación. Sin embargo, es importante tener en cuenta que la precisión no es el único criterio a considerar al seleccionar un modelo, y otros factores como la interpretabilidad del modelo, el tiempo de entrenamiento y la capacidad de generalización también pueden ser importantes dependiendo del contexto de la aplicación."
      ],
      "metadata": {
        "id": "O4TNgiBIZTks"
      }
    },
    {
      "cell_type": "markdown",
      "source": [],
      "metadata": {
        "id": "YA1WKnHuZVly"
      }
    }
  ]
}